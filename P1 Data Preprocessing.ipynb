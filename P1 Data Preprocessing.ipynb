{
 "cells": [
  {
   "cell_type": "code",
   "execution_count": 6,
   "metadata": {},
   "outputs": [],
   "source": [
    "import pandas as pd \n",
    "import numpy as np\n",
    "import matplotlib.pyplot as plt\n",
    "import seaborn as sns\n",
    "from sklearn.preprocessing import MinMaxScaler, StandardScaler\n",
    "from sklearn.model_selection import train_test_split\n",
    "from sklearn.decomposition import PCA\n",
    "from sklearn.impute import SimpleImputer\n",
    "from sklearn.feature_selection import SelectKBest, f_classif"
   ]
  },
  {
   "cell_type": "code",
   "execution_count": 7,
   "metadata": {},
   "outputs": [
    {
     "name": "stdout",
     "output_type": "stream",
     "text": [
      "Dataset shape: (768, 9)\n",
      "   Pregnancies  Glucose  BloodPressure  SkinThickness  Insulin   BMI  \\\n",
      "0            6      148             72             35        0  33.6   \n",
      "1            1       85             66             29        0  26.6   \n",
      "2            8      183             64              0        0  23.3   \n",
      "3            1       89             66             23       94  28.1   \n",
      "4            0      137             40             35      168  43.1   \n",
      "\n",
      "   DiabetesPedigreeFunction  Age  Outcome  \n",
      "0                     0.627   50        1  \n",
      "1                     0.351   31        0  \n",
      "2                     0.672   32        1  \n",
      "3                     0.167   21        0  \n",
      "4                     2.288   33        1  \n"
     ]
    }
   ],
   "source": [
    "# Load the dataset\n",
    "df = pd.read_csv('diabetes.csv')\n",
    "print(f\"Dataset shape: {df.shape}\")\n",
    "print(df.head())"
   ]
  },
  {
   "cell_type": "code",
   "execution_count": 8,
   "metadata": {},
   "outputs": [
    {
     "name": "stdout",
     "output_type": "stream",
     "text": [
      "\n",
      "1. DATA CLEANING\n"
     ]
    }
   ],
   "source": [
    "# 1. DATA CLEANING\n",
    "print(\"\\n1. DATA CLEANING\")\n",
    "# Replace zeros with NaN in columns where zero is physiologically impossible\n",
    "columns_to_clean = ['Glucose', 'BloodPressure', 'SkinThickness', 'Insulin', 'BMI']\n",
    "for column in columns_to_clean:\n",
    "    df[column] = df[column].replace(0, np.nan)"
   ]
  },
  {
   "cell_type": "code",
   "execution_count": 10,
   "metadata": {},
   "outputs": [],
   "source": [
    "# Impute missing values with median\n",
    "imputer = SimpleImputer(strategy='median')\n",
    "df[columns_to_clean] = imputer.fit_transform(df[columns_to_clean])"
   ]
  },
  {
   "cell_type": "code",
   "execution_count": 11,
   "metadata": {},
   "outputs": [
    {
     "name": "stdout",
     "output_type": "stream",
     "text": [
      "\n",
      "2. DATA INTEGRATION\n"
     ]
    }
   ],
   "source": [
    "# 2. DATA INTEGRATION\n",
    "print(\"\\n2. DATA INTEGRATION\")\n",
    "# Create HOMA-IR (insulin resistance measure)\n",
    "df['HOMA_IR'] = (df['Glucose'] * df['Insulin']) / 405\n"
   ]
  },
  {
   "cell_type": "code",
   "execution_count": 12,
   "metadata": {},
   "outputs": [
    {
     "name": "stdout",
     "output_type": "stream",
     "text": [
      "\n",
      "3. DATA TRANSFORMATION\n"
     ]
    }
   ],
   "source": [
    "# 3. DATA TRANSFORMATION\n",
    "print(\"\\n3. DATA TRANSFORMATION\")\n",
    "# Log transform skewed features\n",
    "df['Insulin_Log'] = np.log1p(df['Insulin'])\n",
    "df['HOMA_IR_Log'] = np.log1p(df['HOMA_IR'])"
   ]
  },
  {
   "cell_type": "code",
   "execution_count": 13,
   "metadata": {},
   "outputs": [
    {
     "name": "stdout",
     "output_type": "stream",
     "text": [
      "\n",
      "4. DATA REDUCTION\n"
     ]
    }
   ],
   "source": [
    "# 4. DATA REDUCTION\n",
    "print(\"\\n4. DATA REDUCTION\")\n",
    "# Prepare features and target\n",
    "X = df[['Pregnancies', 'Glucose', 'BloodPressure', 'SkinThickness', 'Insulin_Log', \n",
    "        'BMI', 'DiabetesPedigreeFunction', 'Age', 'HOMA_IR_Log']]\n",
    "y = df['Outcome']\n"
   ]
  },
  {
   "cell_type": "code",
   "execution_count": 14,
   "metadata": {},
   "outputs": [
    {
     "name": "stdout",
     "output_type": "stream",
     "text": [
      "Selected features: Index(['Glucose', 'Insulin_Log', 'BMI', 'Age', 'HOMA_IR_Log'], dtype='object')\n"
     ]
    }
   ],
   "source": [
    "# Feature selection\n",
    "selector = SelectKBest(f_classif, k=5)\n",
    "X_selected = selector.fit_transform(X, y)\n",
    "selected_features = X.columns[selector.get_support()]\n",
    "print(f\"Selected features: {selected_features}\")"
   ]
  },
  {
   "cell_type": "code",
   "execution_count": 15,
   "metadata": {},
   "outputs": [
    {
     "name": "stdout",
     "output_type": "stream",
     "text": [
      "PCA explained variance: 0.92\n"
     ]
    }
   ],
   "source": [
    "# PCA\n",
    "pca = PCA(n_components=3)\n",
    "X_pca = pca.fit_transform(X)\n",
    "print(f\"PCA explained variance: {pca.explained_variance_ratio_.sum():.2f}\")\n"
   ]
  },
  {
   "cell_type": "code",
   "execution_count": 16,
   "metadata": {},
   "outputs": [
    {
     "name": "stdout",
     "output_type": "stream",
     "text": [
      "\n",
      "5. FEATURE SCALING\n"
     ]
    }
   ],
   "source": [
    "# 5. FEATURE SCALING\n",
    "print(\"\\n5. FEATURE SCALING\")\n",
    "# Normalization\n",
    "min_max_scaler = MinMaxScaler()\n",
    "X_normalized = min_max_scaler.fit_transform(X)\n"
   ]
  },
  {
   "cell_type": "code",
   "execution_count": 17,
   "metadata": {},
   "outputs": [],
   "source": [
    "# Standardization\n",
    "standard_scaler = StandardScaler()\n",
    "X_standardized = standard_scaler.fit_transform(X)\n"
   ]
  },
  {
   "cell_type": "code",
   "execution_count": 18,
   "metadata": {},
   "outputs": [
    {
     "name": "stdout",
     "output_type": "stream",
     "text": [
      "\n",
      "6. TRAIN-TEST SPLIT\n",
      "Training set: (614, 9), Test set: (154, 9)\n"
     ]
    }
   ],
   "source": [
    "# 6. TRAIN-TEST SPLIT\n",
    "print(\"\\n6. TRAIN-TEST SPLIT\")\n",
    "X_train, X_test, y_train, y_test = train_test_split(\n",
    "    X_standardized, y, test_size=0.2, random_state=42, stratify=y\n",
    ")\n",
    "print(f\"Training set: {X_train.shape}, Test set: {X_test.shape}\")"
   ]
  },
  {
   "cell_type": "code",
   "execution_count": 19,
   "metadata": {},
   "outputs": [
    {
     "data": {
      "image/png": "[encoded data removed]",
      "text/plain": [
       "<Figure size 1000x600 with 2 Axes>"
      ]
     },
     "metadata": {},
     "output_type": "display_data"
    }
   ],
   "source": [
    "# Quick visualization\n",
    "plt.figure(figsize=(10, 6))\n",
    "sns.heatmap(df[['Pregnancies', 'Glucose', 'BMI', 'Age', 'Outcome']].corr(), \n",
    "            annot=True, cmap='coolwarm')\n",
    "plt.title('Feature Correlation')\n",
    "plt.tight_layout()\n",
    "plt.savefig('correlation_heatmap.png')"
   ]
  }
 ],
 "metadata": {
  "kernelspec": {
   "display_name": "Python 3",
   "language": "python",
   "name": "python3"
  },
  "language_info": {
   "codemirror_mode": {
    "name": "ipython",
    "version": 3
   },
   "file_extension": ".py",
   "mimetype": "text/x-python",
   "name": "python",
   "nbconvert_exporter": "python",
   "pygments_lexer": "ipython3",
   "version": "3.11.9"
  }
 },
 "nbformat": 4,
 "nbformat_minor": 2
}
